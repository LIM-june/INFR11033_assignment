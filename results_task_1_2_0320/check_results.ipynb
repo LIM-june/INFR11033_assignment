{
 "cells": [
  {
   "cell_type": "code",
   "execution_count": 2,
   "id": "3d3fd23c",
   "metadata": {},
   "outputs": [
    {
     "data": {
      "text/html": [
       "<div>\n",
       "<style scoped>\n",
       "    .dataframe tbody tr th:only-of-type {\n",
       "        vertical-align: middle;\n",
       "    }\n",
       "\n",
       "    .dataframe tbody tr th {\n",
       "        vertical-align: top;\n",
       "    }\n",
       "\n",
       "    .dataframe thead th {\n",
       "        text-align: right;\n",
       "    }\n",
       "</style>\n",
       "<table border=\"1\" class=\"dataframe\">\n",
       "  <thead>\n",
       "    <tr style=\"text-align: right;\">\n",
       "      <th></th>\n",
       "      <th>self-prob</th>\n",
       "      <th>accuracy</th>\n",
       "      <th>num_arcs</th>\n",
       "      <th>num_states</th>\n",
       "      <th>decode_time</th>\n",
       "      <th>backtrace_time</th>\n",
       "      <th>forward_cnt</th>\n",
       "    </tr>\n",
       "  </thead>\n",
       "  <tbody>\n",
       "    <tr>\n",
       "      <th>0</th>\n",
       "      <td>NaN</td>\n",
       "      <td>1.065362</td>\n",
       "      <td>230.0</td>\n",
       "      <td>116.0</td>\n",
       "      <td>2.850438</td>\n",
       "      <td>0.000555</td>\n",
       "      <td>465.42</td>\n",
       "    </tr>\n",
       "  </tbody>\n",
       "</table>\n",
       "</div>"
      ],
      "text/plain": [
       "   self-prob  accuracy  num_arcs  num_states  decode_time  backtrace_time  \\\n",
       "0        NaN  1.065362     230.0       116.0     2.850438        0.000555   \n",
       "\n",
       "   forward_cnt  \n",
       "0       465.42  "
      ]
     },
     "execution_count": 2,
     "metadata": {},
     "output_type": "execute_result"
    }
   ],
   "source": [
    "import pandas as pd\n",
    "import glob\n",
    "task1 = pd.read_csv(\"task_1_baseline_df.csv\")\n",
    "task1"
   ]
  },
  {
   "cell_type": "code",
   "execution_count": 4,
   "id": "baf3abd8",
   "metadata": {},
   "outputs": [
    {
     "name": "stdout",
     "output_type": "stream",
     "text": [
      "task_2_final_prob_df.csv\n",
      "   self-prob  accuracy  num_arcs  num_states  decode_time  backtrace_time  \\\n",
      "0        NaN  1.063362     230.0       116.0     2.792063        0.000438   \n",
      "\n",
      "   forward_cnt  \n",
      "0       465.42  \n",
      "\n",
      "task_2_self_loop_df_1_7.csv\n",
      "   self-prob  accuracy  num_arcs  num_states  decode_time  backtrace_time  \\\n",
      "0        0.1  2.705836     230.0       116.0     2.838265        0.000465   \n",
      "1        0.2  1.484036     230.0       116.0     2.859187        0.000474   \n",
      "2        0.3  1.235417     230.0       116.0     2.833891        0.000462   \n",
      "3        0.4  1.148552     230.0       116.0     2.854645        0.000442   \n",
      "4        0.5  1.065362     230.0       116.0     2.846124        0.000427   \n",
      "5        0.6  0.988830     230.0       116.0     2.828461        0.000423   \n",
      "6        0.7  0.941392     230.0       116.0     2.841397        0.000442   \n",
      "\n",
      "   forward_cnt  \n",
      "0       465.42  \n",
      "1       465.42  \n",
      "2       465.42  \n",
      "3       465.42  \n",
      "4       465.42  \n",
      "5       465.42  \n",
      "6       465.42  \n",
      "\n",
      "task_2_self_loop_df.csv\n",
      "   self-prob  accuracy  num_arcs  num_states  decode_time  backtrace_time  \\\n",
      "0        0.1  2.705836     230.0       116.0     2.838265        0.000465   \n",
      "1        0.2  1.484036     230.0       116.0     2.859187        0.000474   \n",
      "2        0.3  1.235417     230.0       116.0     2.833891        0.000462   \n",
      "3        0.4  1.148552     230.0       116.0     2.854645        0.000442   \n",
      "4        0.5  1.065362     230.0       116.0     2.846124        0.000427   \n",
      "5        0.6  0.988830     230.0       116.0     2.828461        0.000423   \n",
      "6        0.7  0.941392     230.0       116.0     2.841397        0.000442   \n",
      "7        0.8  0.888638     230.0       116.0     2.821566        0.000437   \n",
      "8        0.9  0.846569     230.0       116.0     2.822745        0.000435   \n",
      "\n",
      "   forward_cnt  \n",
      "0       465.42  \n",
      "1       465.42  \n",
      "2       465.42  \n",
      "3       465.42  \n",
      "4       465.42  \n",
      "5       465.42  \n",
      "6       465.42  \n",
      "7       465.42  \n",
      "8       465.42  \n",
      "\n",
      "task_2_silence_df.csv\n",
      "   self-prob  accuracy  num_arcs  num_states  decode_time  backtrace_time  \\\n",
      "0        NaN  0.531366     248.0       121.0     2.993508        0.000419   \n",
      "\n",
      "   forward_cnt  \n",
      "0       465.42  \n",
      "\n",
      "task_2_uni_prob_df.csv\n",
      "   self-prob  accuracy  num_arcs  num_states  decode_time  backtrace_time  \\\n",
      "0        NaN  0.977011     230.0       116.0     2.810793        0.000451   \n",
      "\n",
      "   forward_cnt  \n",
      "0       465.42  \n",
      "\n"
     ]
    }
   ],
   "source": [
    "for file in glob.glob(\"task_2*.csv\"):\n",
    "    print(file)\n",
    "    tmp = pd.read_csv(file)\n",
    "    print(tmp)\n",
    "    print()"
   ]
  },
  {
   "cell_type": "code",
   "execution_count": null,
   "id": "b5b09267",
   "metadata": {},
   "outputs": [],
   "source": []
  }
 ],
 "metadata": {
  "kernelspec": {
   "display_name": "Python 3 (ipykernel)",
   "language": "python",
   "name": "python3"
  },
  "language_info": {
   "codemirror_mode": {
    "name": "ipython",
    "version": 3
   },
   "file_extension": ".py",
   "mimetype": "text/x-python",
   "name": "python",
   "nbconvert_exporter": "python",
   "pygments_lexer": "ipython3",
   "version": "3.7.11"
  }
 },
 "nbformat": 4,
 "nbformat_minor": 5
}
